{
  "nbformat": 4,
  "nbformat_minor": 0,
  "metadata": {
    "kernelspec": {
      "display_name": "Python 3",
      "language": "python",
      "name": "python3"
    },
    "language_info": {
      "codemirror_mode": {
        "name": "ipython",
        "version": 3
      },
      "file_extension": ".py",
      "mimetype": "text/x-python",
      "name": "python",
      "nbconvert_exporter": "python",
      "pygments_lexer": "ipython3",
      "version": "3.7.3"
    },
    "colab": {
      "name": "adult.ipynb",
      "provenance": [],
      "collapsed_sections": []
    }
  },
  "cells": [
    {
      "cell_type": "code",
      "metadata": {
        "id": "AzmP2TKf8i5V",
        "colab_type": "code",
        "colab": {}
      },
      "source": [
        "import pandas as pd\n",
        "import matplotlib.pyplot as plt\n",
        "import numpy as np\n",
        "from sklearn.model_selection import train_test_split\n",
        "from sklearn.neighbors import KNeighborsClassifier\n",
        "from sklearn.metrics import accuracy_score"
      ],
      "execution_count": 0,
      "outputs": []
    },
    {
      "cell_type": "code",
      "metadata": {
        "id": "cGiDyU1L8i5k",
        "colab_type": "code",
        "colab": {}
      },
      "source": [
        "df=pd.read_csv(\"https://archive.ics.uci.edu/ml/machine-learning-databases/adult/adult.data\")"
      ],
      "execution_count": 0,
      "outputs": []
    },
    {
      "cell_type": "code",
      "metadata": {
        "id": "KPE9CVAG8i5q",
        "colab_type": "code",
        "colab": {
          "base_uri": "https://localhost:8080/",
          "height": 34
        },
        "outputId": "844c4609-b7a5-4411-e869-24c01ddf5b1b"
      },
      "source": [
        "len(df.columns)"
      ],
      "execution_count": 3,
      "outputs": [
        {
          "output_type": "execute_result",
          "data": {
            "text/plain": [
              "15"
            ]
          },
          "metadata": {
            "tags": []
          },
          "execution_count": 3
        }
      ]
    },
    {
      "cell_type": "code",
      "metadata": {
        "id": "HJjBQWch8i5y",
        "colab_type": "code",
        "colab": {}
      },
      "source": [
        "df.columns=[\"age\",\"workclass\",\"fnlwgt\",\"education\",\"education_num\",\"marital_status\",\"occupation\",\"relationship\",\"race\",\"sex\",\"capital_gain\",\"capital_loss\",\"hours_per_week\",\"native_country\",\"pay\"]"
      ],
      "execution_count": 0,
      "outputs": []
    },
    {
      "cell_type": "code",
      "metadata": {
        "id": "7AJecLds8i53",
        "colab_type": "code",
        "colab": {}
      },
      "source": [
        "df.replace(\" ?\",np.nan,inplace=True)"
      ],
      "execution_count": 0,
      "outputs": []
    },
    {
      "cell_type": "code",
      "metadata": {
        "id": "lM9qioU98i59",
        "colab_type": "code",
        "colab": {
          "base_uri": "https://localhost:8080/",
          "height": 357
        },
        "outputId": "747e67a1-ce25-42c4-b97b-a421957cdc48"
      },
      "source": [
        "df.info()"
      ],
      "execution_count": 6,
      "outputs": [
        {
          "output_type": "stream",
          "text": [
            "<class 'pandas.core.frame.DataFrame'>\n",
            "RangeIndex: 32560 entries, 0 to 32559\n",
            "Data columns (total 15 columns):\n",
            "age               32560 non-null int64\n",
            "workclass         30724 non-null object\n",
            "fnlwgt            32560 non-null int64\n",
            "education         32560 non-null object\n",
            "education_num     32560 non-null int64\n",
            "marital_status    32560 non-null object\n",
            "occupation        30717 non-null object\n",
            "relationship      32560 non-null object\n",
            "race              32560 non-null object\n",
            "sex               32560 non-null object\n",
            "capital_gain      32560 non-null int64\n",
            "capital_loss      32560 non-null int64\n",
            "hours_per_week    32560 non-null int64\n",
            "native_country    31977 non-null object\n",
            "pay               32560 non-null object\n",
            "dtypes: int64(6), object(9)\n",
            "memory usage: 3.7+ MB\n"
          ],
          "name": "stdout"
        }
      ]
    },
    {
      "cell_type": "code",
      "metadata": {
        "id": "ZaQTap7l8i6E",
        "colab_type": "code",
        "colab": {}
      },
      "source": [
        "df.dropna(inplace=True)"
      ],
      "execution_count": 0,
      "outputs": []
    },
    {
      "cell_type": "code",
      "metadata": {
        "id": "ClopHjAg8i6J",
        "colab_type": "code",
        "colab": {
          "base_uri": "https://localhost:8080/",
          "height": 357
        },
        "outputId": "d0de6826-ac1f-45ad-ea5c-ea1eb2d45ec8"
      },
      "source": [
        "df.info()"
      ],
      "execution_count": 8,
      "outputs": [
        {
          "output_type": "stream",
          "text": [
            "<class 'pandas.core.frame.DataFrame'>\n",
            "Int64Index: 30161 entries, 0 to 32559\n",
            "Data columns (total 15 columns):\n",
            "age               30161 non-null int64\n",
            "workclass         30161 non-null object\n",
            "fnlwgt            30161 non-null int64\n",
            "education         30161 non-null object\n",
            "education_num     30161 non-null int64\n",
            "marital_status    30161 non-null object\n",
            "occupation        30161 non-null object\n",
            "relationship      30161 non-null object\n",
            "race              30161 non-null object\n",
            "sex               30161 non-null object\n",
            "capital_gain      30161 non-null int64\n",
            "capital_loss      30161 non-null int64\n",
            "hours_per_week    30161 non-null int64\n",
            "native_country    30161 non-null object\n",
            "pay               30161 non-null object\n",
            "dtypes: int64(6), object(9)\n",
            "memory usage: 3.7+ MB\n"
          ],
          "name": "stdout"
        }
      ]
    },
    {
      "cell_type": "code",
      "metadata": {
        "id": "rb19mElQ8i6P",
        "colab_type": "code",
        "colab": {}
      },
      "source": [
        "df.pay=[x.strip(\" \") for x in df.pay]"
      ],
      "execution_count": 0,
      "outputs": []
    },
    {
      "cell_type": "code",
      "metadata": {
        "id": "87KNiquB8i6T",
        "colab_type": "code",
        "colab": {}
      },
      "source": [
        "df['pay'].replace('<=50K','0',inplace=True)\n",
        "df['pay'].replace('>50K','1',inplace=True)\n"
      ],
      "execution_count": 0,
      "outputs": []
    },
    {
      "cell_type": "code",
      "metadata": {
        "id": "VKwDztda8i6a",
        "colab_type": "code",
        "colab": {
          "base_uri": "https://localhost:8080/",
          "height": 221
        },
        "outputId": "0d4b8994-a061-4eb7-91f5-f69fad1a5315"
      },
      "source": [
        "df.pay"
      ],
      "execution_count": 11,
      "outputs": [
        {
          "output_type": "execute_result",
          "data": {
            "text/plain": [
              "0        0\n",
              "1        0\n",
              "2        0\n",
              "3        0\n",
              "4        0\n",
              "        ..\n",
              "32555    0\n",
              "32556    1\n",
              "32557    0\n",
              "32558    0\n",
              "32559    1\n",
              "Name: pay, Length: 30161, dtype: object"
            ]
          },
          "metadata": {
            "tags": []
          },
          "execution_count": 11
        }
      ]
    },
    {
      "cell_type": "code",
      "metadata": {
        "id": "5R6m-4498i6g",
        "colab_type": "code",
        "colab": {
          "base_uri": "https://localhost:8080/",
          "height": 34
        },
        "outputId": "26b10494-51a8-4bb1-dbae-8b9811e8b85e"
      },
      "source": [
        "df.pay.unique()"
      ],
      "execution_count": 12,
      "outputs": [
        {
          "output_type": "execute_result",
          "data": {
            "text/plain": [
              "array(['0', '1'], dtype=object)"
            ]
          },
          "metadata": {
            "tags": []
          },
          "execution_count": 12
        }
      ]
    },
    {
      "cell_type": "code",
      "metadata": {
        "id": "_kEi40M18i6l",
        "colab_type": "code",
        "colab": {}
      },
      "source": [
        "dummies=pd.get_dummies(df,columns=[\"workclass\",\"marital_status\",\"relationship\",\"race\",\"sex\",\"native_country\",\"occupation\"])"
      ],
      "execution_count": 0,
      "outputs": []
    },
    {
      "cell_type": "code",
      "metadata": {
        "id": "hooViS6K8i6z",
        "colab_type": "code",
        "colab": {}
      },
      "source": [
        "dummies.drop(columns=[\"education\"],inplace=True)"
      ],
      "execution_count": 0,
      "outputs": []
    },
    {
      "cell_type": "code",
      "metadata": {
        "id": "VxT8bx2F8i64",
        "colab_type": "code",
        "colab": {
          "base_uri": "https://localhost:8080/",
          "height": 34
        },
        "outputId": "f154aa3f-075c-4f60-af17-ead744c07e80"
      },
      "source": [
        "len(dummies.columns)"
      ],
      "execution_count": 15,
      "outputs": [
        {
          "output_type": "execute_result",
          "data": {
            "text/plain": [
              "89"
            ]
          },
          "metadata": {
            "tags": []
          },
          "execution_count": 15
        }
      ]
    },
    {
      "cell_type": "code",
      "metadata": {
        "id": "HIH858jM8i68",
        "colab_type": "code",
        "colab": {}
      },
      "source": [
        "X=dummies.drop(columns=[\"pay\"])"
      ],
      "execution_count": 0,
      "outputs": []
    },
    {
      "cell_type": "code",
      "metadata": {
        "id": "yYxprjHz8i7D",
        "colab_type": "code",
        "colab": {}
      },
      "source": [
        "y=dummies[[\"pay\"]]\n",
        "y=y.astype(int)"
      ],
      "execution_count": 0,
      "outputs": []
    },
    {
      "cell_type": "code",
      "metadata": {
        "id": "1Raq13c78i7I",
        "colab_type": "code",
        "colab": {}
      },
      "source": [
        "X_train, X_test, y_train, y_test = train_test_split(X, y,test_size=0.2,random_state=1234)"
      ],
      "execution_count": 0,
      "outputs": []
    },
    {
      "cell_type": "code",
      "metadata": {
        "id": "Ruwctzcn8i7M",
        "colab_type": "code",
        "colab": {}
      },
      "source": [
        "model = KNeighborsClassifier()"
      ],
      "execution_count": 0,
      "outputs": []
    },
    {
      "cell_type": "code",
      "metadata": {
        "id": "tTpY9mnX8i7d",
        "colab_type": "code",
        "colab": {
          "base_uri": "https://localhost:8080/",
          "height": 122
        },
        "outputId": "6511016b-760a-436e-e8b2-fd3e8545c039"
      },
      "source": [
        "model.fit(X_train,y_train)"
      ],
      "execution_count": 20,
      "outputs": [
        {
          "output_type": "stream",
          "text": [
            "/usr/local/lib/python3.6/dist-packages/ipykernel_launcher.py:1: DataConversionWarning: A column-vector y was passed when a 1d array was expected. Please change the shape of y to (n_samples, ), for example using ravel().\n",
            "  \"\"\"Entry point for launching an IPython kernel.\n"
          ],
          "name": "stderr"
        },
        {
          "output_type": "execute_result",
          "data": {
            "text/plain": [
              "KNeighborsClassifier(algorithm='auto', leaf_size=30, metric='minkowski',\n",
              "                     metric_params=None, n_jobs=None, n_neighbors=5, p=2,\n",
              "                     weights='uniform')"
            ]
          },
          "metadata": {
            "tags": []
          },
          "execution_count": 20
        }
      ]
    },
    {
      "cell_type": "code",
      "metadata": {
        "id": "MoF66Sy_8i7l",
        "colab_type": "code",
        "colab": {
          "base_uri": "https://localhost:8080/",
          "height": 119
        },
        "outputId": "d0cd99d1-186e-40b8-b69e-cab5c4d4ec25"
      },
      "source": [
        "y_test['KNN']=model.predict(X_test)"
      ],
      "execution_count": 21,
      "outputs": [
        {
          "output_type": "stream",
          "text": [
            "/usr/local/lib/python3.6/dist-packages/ipykernel_launcher.py:1: SettingWithCopyWarning: \n",
            "A value is trying to be set on a copy of a slice from a DataFrame.\n",
            "Try using .loc[row_indexer,col_indexer] = value instead\n",
            "\n",
            "See the caveats in the documentation: http://pandas.pydata.org/pandas-docs/stable/user_guide/indexing.html#returning-a-view-versus-a-copy\n",
            "  \"\"\"Entry point for launching an IPython kernel.\n"
          ],
          "name": "stderr"
        }
      ]
    },
    {
      "cell_type": "code",
      "metadata": {
        "id": "T0gDSii28i7u",
        "colab_type": "code",
        "colab": {
          "base_uri": "https://localhost:8080/",
          "height": 80
        },
        "outputId": "3c536acf-7b56-4b24-9615-2cc7ed63b855"
      },
      "source": [
        "import keras\n",
        "from keras.models import Sequential\n",
        "from keras.layers import Dense\n",
        "from keras.losses import categorical_crossentropy\n",
        "from keras.metrics import categorical_accuracy, mean_absolute_error, mse\n",
        "from keras.optimizers import Adam\n"
      ],
      "execution_count": 22,
      "outputs": [
        {
          "output_type": "stream",
          "text": [
            "Using TensorFlow backend.\n"
          ],
          "name": "stderr"
        },
        {
          "output_type": "display_data",
          "data": {
            "text/html": [
              "<p style=\"color: red;\">\n",
              "The default version of TensorFlow in Colab will soon switch to TensorFlow 2.x.<br>\n",
              "We recommend you <a href=\"https://www.tensorflow.org/guide/migrate\" target=\"_blank\">upgrade</a> now \n",
              "or ensure your notebook will continue to use TensorFlow 1.x via the <code>%tensorflow_version 1.x</code> magic:\n",
              "<a href=\"https://colab.research.google.com/notebooks/tensorflow_version.ipynb\" target=\"_blank\">more info</a>.</p>\n"
            ],
            "text/plain": [
              "<IPython.core.display.HTML object>"
            ]
          },
          "metadata": {
            "tags": []
          }
        }
      ]
    },
    {
      "cell_type": "code",
      "metadata": {
        "id": "3CIqElW_-vLO",
        "colab_type": "code",
        "colab": {}
      },
      "source": [
        ""
      ],
      "execution_count": 0,
      "outputs": []
    },
    {
      "cell_type": "code",
      "metadata": {
        "id": "lENNTHe9CHbP",
        "colab_type": "code",
        "colab": {
          "base_uri": "https://localhost:8080/",
          "height": 1000
        },
        "outputId": "a7b0a3e6-71bf-49bd-923b-8d90d13e074b"
      },
      "source": [
        "kmodel = Sequential()\n",
        "kmodel.add(Dense(2, input_shape=(88,), activation='relu'))\n",
        "# kmodel.add(Dense(3, activation='softmax'))\n",
        "kmodel.compile(Adam(lr=0.001), loss='binary_crossentropy', \\\n",
        "              metrics=[ 'accuracy'])\n",
        "# kk2model.compile(Adam(lr=0.01), loss='binary_crossentropy')\n",
        "from keras.utils import to_categorical\n",
        "history = kmodel.fit(X_train, to_categorical(y_train), epochs=300)\n"
      ],
      "execution_count": 0,
      "outputs": [
        {
          "output_type": "stream",
          "text": [
            "WARNING:tensorflow:From /usr/local/lib/python3.6/dist-packages/keras/backend/tensorflow_backend.py:66: The name tf.get_default_graph is deprecated. Please use tf.compat.v1.get_default_graph instead.\n",
            "\n",
            "WARNING:tensorflow:From /usr/local/lib/python3.6/dist-packages/keras/backend/tensorflow_backend.py:541: The name tf.placeholder is deprecated. Please use tf.compat.v1.placeholder instead.\n",
            "\n",
            "WARNING:tensorflow:From /usr/local/lib/python3.6/dist-packages/keras/backend/tensorflow_backend.py:4432: The name tf.random_uniform is deprecated. Please use tf.random.uniform instead.\n",
            "\n",
            "WARNING:tensorflow:From /usr/local/lib/python3.6/dist-packages/keras/optimizers.py:793: The name tf.train.Optimizer is deprecated. Please use tf.compat.v1.train.Optimizer instead.\n",
            "\n",
            "WARNING:tensorflow:From /usr/local/lib/python3.6/dist-packages/keras/backend/tensorflow_backend.py:3657: The name tf.log is deprecated. Please use tf.math.log instead.\n",
            "\n",
            "WARNING:tensorflow:From /usr/local/lib/python3.6/dist-packages/tensorflow_core/python/ops/nn_impl.py:183: where (from tensorflow.python.ops.array_ops) is deprecated and will be removed in a future version.\n",
            "Instructions for updating:\n",
            "Use tf.where in 2.0, which has the same broadcast rule as np.where\n",
            "WARNING:tensorflow:From /usr/local/lib/python3.6/dist-packages/keras/backend/tensorflow_backend.py:1033: The name tf.assign_add is deprecated. Please use tf.compat.v1.assign_add instead.\n",
            "\n",
            "WARNING:tensorflow:From /usr/local/lib/python3.6/dist-packages/keras/backend/tensorflow_backend.py:1020: The name tf.assign is deprecated. Please use tf.compat.v1.assign instead.\n",
            "\n",
            "WARNING:tensorflow:From /usr/local/lib/python3.6/dist-packages/keras/backend/tensorflow_backend.py:3005: The name tf.Session is deprecated. Please use tf.compat.v1.Session instead.\n",
            "\n",
            "Epoch 1/300\n",
            "WARNING:tensorflow:From /usr/local/lib/python3.6/dist-packages/keras/backend/tensorflow_backend.py:190: The name tf.get_default_session is deprecated. Please use tf.compat.v1.get_default_session instead.\n",
            "\n",
            "WARNING:tensorflow:From /usr/local/lib/python3.6/dist-packages/keras/backend/tensorflow_backend.py:197: The name tf.ConfigProto is deprecated. Please use tf.compat.v1.ConfigProto instead.\n",
            "\n",
            "WARNING:tensorflow:From /usr/local/lib/python3.6/dist-packages/keras/backend/tensorflow_backend.py:207: The name tf.global_variables is deprecated. Please use tf.compat.v1.global_variables instead.\n",
            "\n",
            "WARNING:tensorflow:From /usr/local/lib/python3.6/dist-packages/keras/backend/tensorflow_backend.py:216: The name tf.is_variable_initialized is deprecated. Please use tf.compat.v1.is_variable_initialized instead.\n",
            "\n",
            "WARNING:tensorflow:From /usr/local/lib/python3.6/dist-packages/keras/backend/tensorflow_backend.py:223: The name tf.variables_initializer is deprecated. Please use tf.compat.v1.variables_initializer instead.\n",
            "\n",
            "24128/24128 [==============================] - 1s 41us/step - loss: 8.0762 - acc: 0.4989\n",
            "Epoch 2/300\n",
            "24128/24128 [==============================] - 1s 35us/step - loss: 8.0762 - acc: 0.4989\n",
            "Epoch 3/300\n",
            "24128/24128 [==============================] - 1s 37us/step - loss: 8.0762 - acc: 0.4989\n",
            "Epoch 4/300\n",
            "24128/24128 [==============================] - 1s 35us/step - loss: 8.0762 - acc: 0.4989\n",
            "Epoch 5/300\n",
            "24128/24128 [==============================] - 1s 35us/step - loss: 8.0762 - acc: 0.4989\n",
            "Epoch 6/300\n",
            "24128/24128 [==============================] - 1s 35us/step - loss: 8.0762 - acc: 0.4989\n",
            "Epoch 7/300\n",
            "24128/24128 [==============================] - 1s 34us/step - loss: 8.0762 - acc: 0.4989\n",
            "Epoch 8/300\n",
            "24128/24128 [==============================] - 1s 34us/step - loss: 8.0762 - acc: 0.4989\n",
            "Epoch 9/300\n",
            "24128/24128 [==============================] - 1s 35us/step - loss: 8.0762 - acc: 0.4989\n",
            "Epoch 10/300\n",
            "24128/24128 [==============================] - 1s 34us/step - loss: 8.0762 - acc: 0.4989\n",
            "Epoch 11/300\n",
            "24128/24128 [==============================] - 1s 34us/step - loss: 8.0762 - acc: 0.4989\n",
            "Epoch 12/300\n",
            "24128/24128 [==============================] - 1s 35us/step - loss: 8.0762 - acc: 0.4989\n",
            "Epoch 13/300\n",
            "24128/24128 [==============================] - 1s 34us/step - loss: 8.0762 - acc: 0.4989\n",
            "Epoch 14/300\n",
            "24128/24128 [==============================] - 1s 34us/step - loss: 8.0762 - acc: 0.4989\n",
            "Epoch 15/300\n",
            "24128/24128 [==============================] - 1s 35us/step - loss: 8.0762 - acc: 0.4989\n",
            "Epoch 16/300\n",
            "24128/24128 [==============================] - 1s 34us/step - loss: 8.0762 - acc: 0.4989\n",
            "Epoch 17/300\n",
            "24128/24128 [==============================] - 1s 35us/step - loss: 8.0762 - acc: 0.4989\n",
            "Epoch 18/300\n",
            "24128/24128 [==============================] - 1s 35us/step - loss: 8.0762 - acc: 0.4989\n",
            "Epoch 19/300\n",
            "24128/24128 [==============================] - 1s 35us/step - loss: 8.0762 - acc: 0.4989\n",
            "Epoch 20/300\n",
            "24128/24128 [==============================] - 1s 35us/step - loss: 8.0762 - acc: 0.4989\n",
            "Epoch 21/300\n",
            "24128/24128 [==============================] - 1s 36us/step - loss: 8.0762 - acc: 0.4989\n",
            "Epoch 22/300\n",
            "24128/24128 [==============================] - 1s 36us/step - loss: 8.0762 - acc: 0.4989\n",
            "Epoch 23/300\n",
            "24128/24128 [==============================] - 1s 35us/step - loss: 8.0762 - acc: 0.4989\n",
            "Epoch 24/300\n",
            "24128/24128 [==============================] - 1s 35us/step - loss: 8.0762 - acc: 0.4989\n",
            "Epoch 25/300\n",
            "24128/24128 [==============================] - 1s 35us/step - loss: 8.0762 - acc: 0.4989\n",
            "Epoch 26/300\n",
            "24128/24128 [==============================] - 1s 34us/step - loss: 8.0762 - acc: 0.4989\n",
            "Epoch 27/300\n",
            "24128/24128 [==============================] - 1s 35us/step - loss: 8.0762 - acc: 0.4989\n",
            "Epoch 28/300\n",
            "24128/24128 [==============================] - 1s 35us/step - loss: 8.0762 - acc: 0.4989\n",
            "Epoch 29/300\n",
            "24128/24128 [==============================] - 1s 34us/step - loss: 8.0762 - acc: 0.4989\n",
            "Epoch 30/300\n",
            "24128/24128 [==============================] - 1s 35us/step - loss: 8.0762 - acc: 0.4989\n",
            "Epoch 31/300\n",
            "24128/24128 [==============================] - 1s 34us/step - loss: 8.0762 - acc: 0.4989\n",
            "Epoch 32/300\n",
            "24128/24128 [==============================] - 1s 35us/step - loss: 8.0762 - acc: 0.4989\n",
            "Epoch 33/300\n",
            "24128/24128 [==============================] - 1s 36us/step - loss: 8.0762 - acc: 0.4989\n",
            "Epoch 34/300\n",
            "24128/24128 [==============================] - 1s 36us/step - loss: 8.0762 - acc: 0.4989\n",
            "Epoch 35/300\n",
            "24128/24128 [==============================] - 1s 35us/step - loss: 8.0762 - acc: 0.4989\n",
            "Epoch 36/300\n",
            "24128/24128 [==============================] - 1s 34us/step - loss: 8.0762 - acc: 0.4989\n",
            "Epoch 37/300\n",
            "24128/24128 [==============================] - 1s 35us/step - loss: 8.0762 - acc: 0.4989\n",
            "Epoch 38/300\n",
            "24128/24128 [==============================] - 1s 35us/step - loss: 8.0762 - acc: 0.4989\n",
            "Epoch 39/300\n",
            "24128/24128 [==============================] - 1s 36us/step - loss: 8.0762 - acc: 0.4989\n",
            "Epoch 40/300\n",
            "24128/24128 [==============================] - 1s 36us/step - loss: 8.0762 - acc: 0.4989\n",
            "Epoch 41/300\n",
            "24128/24128 [==============================] - 1s 35us/step - loss: 8.0762 - acc: 0.4989\n",
            "Epoch 42/300\n",
            "24128/24128 [==============================] - 1s 35us/step - loss: 8.0762 - acc: 0.4989\n",
            "Epoch 43/300\n",
            "24128/24128 [==============================] - 1s 35us/step - loss: 8.0762 - acc: 0.4989\n",
            "Epoch 44/300\n",
            "24128/24128 [==============================] - 1s 35us/step - loss: 8.0762 - acc: 0.4989\n",
            "Epoch 45/300\n",
            "24128/24128 [==============================] - 1s 35us/step - loss: 8.0762 - acc: 0.4989\n",
            "Epoch 46/300\n",
            "24128/24128 [==============================] - 1s 35us/step - loss: 8.0762 - acc: 0.4989\n",
            "Epoch 47/300\n",
            "24128/24128 [==============================] - 1s 34us/step - loss: 8.0762 - acc: 0.4989\n",
            "Epoch 48/300\n",
            "24128/24128 [==============================] - 1s 34us/step - loss: 8.0762 - acc: 0.4989\n",
            "Epoch 49/300\n",
            "24128/24128 [==============================] - 1s 35us/step - loss: 8.0762 - acc: 0.4989\n",
            "Epoch 50/300\n",
            "24128/24128 [==============================] - 1s 35us/step - loss: 8.0762 - acc: 0.4989\n",
            "Epoch 51/300\n",
            "24128/24128 [==============================] - 1s 36us/step - loss: 8.0762 - acc: 0.4989\n",
            "Epoch 52/300\n",
            "24128/24128 [==============================] - 1s 35us/step - loss: 8.0762 - acc: 0.4989\n",
            "Epoch 53/300\n",
            "24128/24128 [==============================] - 1s 34us/step - loss: 8.0762 - acc: 0.4989\n",
            "Epoch 54/300\n",
            "24128/24128 [==============================] - 1s 34us/step - loss: 8.0762 - acc: 0.4989\n",
            "Epoch 55/300\n",
            "24128/24128 [==============================] - 1s 36us/step - loss: 8.0762 - acc: 0.4989\n",
            "Epoch 56/300\n",
            "24128/24128 [==============================] - 1s 37us/step - loss: 8.0762 - acc: 0.4989\n",
            "Epoch 57/300\n",
            "24128/24128 [==============================] - 1s 36us/step - loss: 8.0762 - acc: 0.4989\n",
            "Epoch 58/300\n",
            "24128/24128 [==============================] - 1s 36us/step - loss: 8.0762 - acc: 0.4989\n",
            "Epoch 59/300\n",
            "24128/24128 [==============================] - 1s 35us/step - loss: 8.0762 - acc: 0.4989\n",
            "Epoch 60/300\n",
            "24128/24128 [==============================] - 1s 34us/step - loss: 8.0762 - acc: 0.4989\n",
            "Epoch 61/300\n",
            "24128/24128 [==============================] - 1s 36us/step - loss: 8.0762 - acc: 0.4989\n",
            "Epoch 62/300\n",
            "24128/24128 [==============================] - 1s 35us/step - loss: 8.0762 - acc: 0.4989\n",
            "Epoch 63/300\n",
            "24128/24128 [==============================] - 1s 34us/step - loss: 8.0762 - acc: 0.4989\n",
            "Epoch 64/300\n",
            "24128/24128 [==============================] - 1s 35us/step - loss: 8.0762 - acc: 0.4989\n",
            "Epoch 65/300\n",
            "24128/24128 [==============================] - 1s 35us/step - loss: 8.0762 - acc: 0.4989\n",
            "Epoch 66/300\n",
            "24128/24128 [==============================] - 1s 34us/step - loss: 8.0762 - acc: 0.4989\n",
            "Epoch 67/300\n",
            "24128/24128 [==============================] - 1s 34us/step - loss: 8.0762 - acc: 0.4989\n",
            "Epoch 68/300\n",
            "24128/24128 [==============================] - 1s 34us/step - loss: 8.0762 - acc: 0.4989\n",
            "Epoch 69/300\n",
            "24128/24128 [==============================] - 1s 34us/step - loss: 8.0762 - acc: 0.4989\n",
            "Epoch 70/300\n",
            "24128/24128 [==============================] - 1s 34us/step - loss: 8.0762 - acc: 0.4989\n",
            "Epoch 71/300\n",
            "24128/24128 [==============================] - 1s 35us/step - loss: 8.0762 - acc: 0.4989\n",
            "Epoch 72/300\n",
            "24128/24128 [==============================] - 1s 34us/step - loss: 8.0762 - acc: 0.4989\n",
            "Epoch 73/300\n",
            "24128/24128 [==============================] - 1s 34us/step - loss: 8.0762 - acc: 0.4989\n",
            "Epoch 74/300\n",
            "24128/24128 [==============================] - 1s 38us/step - loss: 8.0762 - acc: 0.4989\n",
            "Epoch 75/300\n",
            "24128/24128 [==============================] - 1s 35us/step - loss: 8.0762 - acc: 0.4989\n",
            "Epoch 76/300\n",
            "24128/24128 [==============================] - 1s 35us/step - loss: 8.0762 - acc: 0.4989\n",
            "Epoch 77/300\n",
            "24128/24128 [==============================] - 1s 36us/step - loss: 8.0762 - acc: 0.4989\n",
            "Epoch 78/300\n",
            "24128/24128 [==============================] - 1s 34us/step - loss: 8.0762 - acc: 0.4989\n",
            "Epoch 79/300\n",
            "24128/24128 [==============================] - 1s 35us/step - loss: 8.0762 - acc: 0.4989\n",
            "Epoch 80/300\n",
            "24128/24128 [==============================] - 1s 34us/step - loss: 8.0762 - acc: 0.4989\n",
            "Epoch 81/300\n",
            "24128/24128 [==============================] - 1s 35us/step - loss: 8.0762 - acc: 0.4989\n",
            "Epoch 82/300\n",
            "24128/24128 [==============================] - 1s 35us/step - loss: 8.0762 - acc: 0.4989\n",
            "Epoch 83/300\n",
            "24128/24128 [==============================] - 1s 35us/step - loss: 8.0762 - acc: 0.4989\n",
            "Epoch 84/300\n",
            "24128/24128 [==============================] - 1s 34us/step - loss: 8.0762 - acc: 0.4989\n",
            "Epoch 85/300\n",
            "24128/24128 [==============================] - 1s 33us/step - loss: 8.0762 - acc: 0.4989\n",
            "Epoch 86/300\n",
            "24128/24128 [==============================] - 1s 34us/step - loss: 8.0762 - acc: 0.4989\n",
            "Epoch 87/300\n",
            "24128/24128 [==============================] - 1s 34us/step - loss: 8.0762 - acc: 0.4989\n",
            "Epoch 88/300\n",
            "24128/24128 [==============================] - 1s 35us/step - loss: 8.0762 - acc: 0.4989\n",
            "Epoch 89/300\n",
            "24128/24128 [==============================] - 1s 35us/step - loss: 8.0762 - acc: 0.4989\n",
            "Epoch 90/300\n",
            "24128/24128 [==============================] - 1s 35us/step - loss: 8.0762 - acc: 0.4989\n",
            "Epoch 91/300\n",
            "24128/24128 [==============================] - 1s 34us/step - loss: 8.0762 - acc: 0.4989\n",
            "Epoch 92/300\n",
            "24128/24128 [==============================] - 1s 35us/step - loss: 8.0762 - acc: 0.4989\n",
            "Epoch 93/300\n",
            "24128/24128 [==============================] - 1s 37us/step - loss: 8.0762 - acc: 0.4989\n",
            "Epoch 94/300\n",
            "24128/24128 [==============================] - 1s 36us/step - loss: 8.0762 - acc: 0.4989\n",
            "Epoch 95/300\n",
            "24128/24128 [==============================] - 1s 35us/step - loss: 8.0762 - acc: 0.4989\n",
            "Epoch 96/300\n",
            "24128/24128 [==============================] - 1s 36us/step - loss: 8.0762 - acc: 0.4989\n",
            "Epoch 97/300\n",
            "24128/24128 [==============================] - 1s 36us/step - loss: 8.0762 - acc: 0.4989\n",
            "Epoch 98/300\n",
            "24128/24128 [==============================] - 1s 34us/step - loss: 8.0762 - acc: 0.4989\n",
            "Epoch 99/300\n",
            "24128/24128 [==============================] - 1s 37us/step - loss: 8.0762 - acc: 0.4989\n",
            "Epoch 100/300\n",
            "24128/24128 [==============================] - 1s 35us/step - loss: 8.0762 - acc: 0.4989\n",
            "Epoch 101/300\n",
            "24128/24128 [==============================] - 1s 35us/step - loss: 8.0762 - acc: 0.4989\n",
            "Epoch 102/300\n",
            "24128/24128 [==============================] - 1s 35us/step - loss: 8.0762 - acc: 0.4989\n",
            "Epoch 103/300\n",
            "24128/24128 [==============================] - 1s 35us/step - loss: 8.0762 - acc: 0.4989\n",
            "Epoch 104/300\n",
            "24128/24128 [==============================] - 1s 35us/step - loss: 8.0762 - acc: 0.4989\n",
            "Epoch 105/300\n",
            "24128/24128 [==============================] - 1s 35us/step - loss: 8.0762 - acc: 0.4989\n",
            "Epoch 106/300\n",
            "24128/24128 [==============================] - 1s 35us/step - loss: 8.0762 - acc: 0.4989\n",
            "Epoch 107/300\n",
            "24128/24128 [==============================] - 1s 34us/step - loss: 8.0762 - acc: 0.4989\n",
            "Epoch 108/300\n",
            "24128/24128 [==============================] - 1s 34us/step - loss: 8.0762 - acc: 0.4989\n",
            "Epoch 109/300\n",
            "24128/24128 [==============================] - 1s 34us/step - loss: 8.0762 - acc: 0.4989\n",
            "Epoch 110/300\n",
            "24128/24128 [==============================] - 1s 35us/step - loss: 8.0762 - acc: 0.4989\n",
            "Epoch 111/300\n",
            "24128/24128 [==============================] - 1s 36us/step - loss: 8.0762 - acc: 0.4989\n",
            "Epoch 112/300\n",
            "24128/24128 [==============================] - 1s 35us/step - loss: 8.0762 - acc: 0.4989\n",
            "Epoch 113/300\n",
            "24128/24128 [==============================] - 1s 36us/step - loss: 8.0762 - acc: 0.4989\n",
            "Epoch 114/300\n",
            "24128/24128 [==============================] - 1s 35us/step - loss: 8.0762 - acc: 0.4989\n",
            "Epoch 115/300\n",
            "24128/24128 [==============================] - 1s 35us/step - loss: 8.0762 - acc: 0.4989\n",
            "Epoch 116/300\n",
            "24128/24128 [==============================] - 1s 35us/step - loss: 8.0762 - acc: 0.4989\n",
            "Epoch 117/300\n",
            "24128/24128 [==============================] - 1s 35us/step - loss: 8.0762 - acc: 0.4989\n",
            "Epoch 118/300\n",
            "24128/24128 [==============================] - 1s 36us/step - loss: 8.0762 - acc: 0.4989\n",
            "Epoch 119/300\n",
            "24128/24128 [==============================] - 1s 35us/step - loss: 8.0762 - acc: 0.4989\n",
            "Epoch 120/300\n",
            "24128/24128 [==============================] - 1s 37us/step - loss: 8.0762 - acc: 0.4989\n",
            "Epoch 121/300\n",
            "24128/24128 [==============================] - 1s 35us/step - loss: 8.0762 - acc: 0.4989\n",
            "Epoch 122/300\n",
            "24128/24128 [==============================] - 1s 36us/step - loss: 8.0762 - acc: 0.4989\n",
            "Epoch 123/300\n",
            "24128/24128 [==============================] - 1s 35us/step - loss: 8.0762 - acc: 0.4989\n",
            "Epoch 124/300\n",
            "24128/24128 [==============================] - 1s 35us/step - loss: 8.0762 - acc: 0.4989\n",
            "Epoch 125/300\n",
            "24128/24128 [==============================] - 1s 35us/step - loss: 8.0762 - acc: 0.4989\n",
            "Epoch 126/300\n",
            "24128/24128 [==============================] - 1s 36us/step - loss: 8.0762 - acc: 0.4989\n",
            "Epoch 127/300\n",
            "24128/24128 [==============================] - 1s 35us/step - loss: 8.0762 - acc: 0.4989\n",
            "Epoch 128/300\n",
            "24128/24128 [==============================] - 1s 35us/step - loss: 8.0762 - acc: 0.4989\n",
            "Epoch 129/300\n",
            "24128/24128 [==============================] - 1s 35us/step - loss: 8.0762 - acc: 0.4989\n",
            "Epoch 130/300\n",
            "24128/24128 [==============================] - 1s 35us/step - loss: 8.0762 - acc: 0.4989\n",
            "Epoch 131/300\n",
            "24128/24128 [==============================] - 1s 33us/step - loss: 8.0762 - acc: 0.4989\n",
            "Epoch 132/300\n",
            "24128/24128 [==============================] - 1s 34us/step - loss: 8.0762 - acc: 0.4989\n",
            "Epoch 133/300\n",
            "24128/24128 [==============================] - 1s 34us/step - loss: 8.0762 - acc: 0.4989\n",
            "Epoch 134/300\n",
            "24128/24128 [==============================] - 1s 35us/step - loss: 8.0762 - acc: 0.4989\n",
            "Epoch 135/300\n",
            "24128/24128 [==============================] - 1s 35us/step - loss: 8.0762 - acc: 0.4989\n",
            "Epoch 136/300\n",
            "24128/24128 [==============================] - 1s 34us/step - loss: 8.0762 - acc: 0.4989\n",
            "Epoch 137/300\n",
            "24128/24128 [==============================] - 1s 35us/step - loss: 8.0762 - acc: 0.4989\n",
            "Epoch 138/300\n",
            "24128/24128 [==============================] - 1s 34us/step - loss: 8.0762 - acc: 0.4989\n",
            "Epoch 139/300\n",
            "24128/24128 [==============================] - 1s 35us/step - loss: 8.0762 - acc: 0.4989\n",
            "Epoch 140/300\n",
            "24128/24128 [==============================] - 1s 36us/step - loss: 8.0762 - acc: 0.4989\n",
            "Epoch 141/300\n",
            "24128/24128 [==============================] - 1s 36us/step - loss: 8.0762 - acc: 0.4989\n",
            "Epoch 142/300\n",
            "24128/24128 [==============================] - 1s 35us/step - loss: 8.0762 - acc: 0.4989\n",
            "Epoch 143/300\n",
            "24128/24128 [==============================] - 1s 34us/step - loss: 8.0762 - acc: 0.4989\n",
            "Epoch 144/300\n",
            "24128/24128 [==============================] - 1s 36us/step - loss: 8.0762 - acc: 0.4989\n",
            "Epoch 145/300\n",
            "24128/24128 [==============================] - 1s 36us/step - loss: 8.0762 - acc: 0.4989\n",
            "Epoch 146/300\n",
            "11424/24128 [=============>................] - ETA: 0s - loss: 8.0751 - acc: 0.4990"
          ],
          "name": "stdout"
        }
      ]
    },
    {
      "cell_type": "code",
      "metadata": {
        "id": "6dngXI-wCSlh",
        "colab_type": "code",
        "colab": {}
      },
      "source": [
        "y_pred=kmodel.predict(X_test)\n",
        "y_pred_class=np.argmax(y_pred, axis=1)\n",
        "y_test['kPred']=y_pred_class\n"
      ],
      "execution_count": 0,
      "outputs": []
    },
    {
      "cell_type": "code",
      "metadata": {
        "id": "4ljkifP4JBhl",
        "colab_type": "code",
        "colab": {}
      },
      "source": [
        "print(f'KNN : {accuracy_score(y_test[\"pay\"].values, y_test[\"kPred\"].values)}')\n",
        "print(f'Keras : {accuracy_score(y_test.pay, y_test.KNN)}')"
      ],
      "execution_count": 0,
      "outputs": []
    },
    {
      "cell_type": "code",
      "metadata": {
        "id": "8736SkoSJIGQ",
        "colab_type": "code",
        "colab": {}
      },
      "source": [
        ""
      ],
      "execution_count": 0,
      "outputs": []
    }
  ]
}